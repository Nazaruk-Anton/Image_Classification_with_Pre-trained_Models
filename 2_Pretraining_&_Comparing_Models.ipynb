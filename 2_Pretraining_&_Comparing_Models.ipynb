{
  "nbformat": 4,
  "nbformat_minor": 0,
  "metadata": {
    "colab": {
      "provenance": [],
      "gpuType": "T4",
      "authorship_tag": "ABX9TyOeQKUDylub4yB8FBX3kPT7",
      "include_colab_link": true
    },
    "kernelspec": {
      "name": "python3",
      "display_name": "Python 3"
    },
    "language_info": {
      "name": "python"
    },
    "accelerator": "GPU"
  },
  "cells": [
    {
      "cell_type": "markdown",
      "metadata": {
        "id": "view-in-github",
        "colab_type": "text"
      },
      "source": [
        "<a href=\"https://colab.research.google.com/github/Nazaruk-Anton/Image_Classification_with_Pre-trained_Models/blob/main/2_Pretraining_%26_Comparing_Models.ipynb\" target=\"_parent\"><img src=\"https://colab.research.google.com/assets/colab-badge.svg\" alt=\"Open In Colab\"/></a>"
      ]
    },
    {
      "cell_type": "markdown",
      "source": [
        "## Import Libraries, Packages, and Data"
      ],
      "metadata": {
        "id": "aboz5USQTmfV"
      }
    },
    {
      "cell_type": "code",
      "execution_count": 1,
      "metadata": {
        "id": "MUqNps4PJP7d"
      },
      "outputs": [],
      "source": [
        "from keras.preprocessing.image import ImageDataGenerator\n",
        "import keras\n",
        "from keras.models import Sequential\n",
        "from keras.layers import Dense\n",
        "from keras.applications import ResNet50\n",
        "from tensorflow.keras.applications.resnet50 import preprocess_input\n",
        "from keras.applications import VGG16\n",
        "from tensorflow.keras.applications.vgg16 import preprocess_input"
      ]
    },
    {
      "cell_type": "code",
      "source": [
        "## get the data\n",
        "!wget https://s3-api.us-geo.objectstorage.softlayer.net/cf-courses-data/CognitiveClass/DL0321EN/data/concrete_data_week4.zip"
      ],
      "metadata": {
        "colab": {
          "base_uri": "https://localhost:8080/"
        },
        "id": "R3y9w54jRYo1",
        "outputId": "fdb2671d-a6fa-434f-d5be-7bf07e648116"
      },
      "execution_count": 13,
      "outputs": [
        {
          "output_type": "stream",
          "name": "stdout",
          "text": [
            "--2023-07-02 11:21:24--  https://s3-api.us-geo.objectstorage.softlayer.net/cf-courses-data/CognitiveClass/DL0321EN/data/concrete_data_week4.zip\n",
            "Resolving s3-api.us-geo.objectstorage.softlayer.net (s3-api.us-geo.objectstorage.softlayer.net)... 67.228.254.196\n",
            "Connecting to s3-api.us-geo.objectstorage.softlayer.net (s3-api.us-geo.objectstorage.softlayer.net)|67.228.254.196|:443... connected.\n",
            "HTTP request sent, awaiting response... 200 OK\n",
            "Length: 261483817 (249M) [application/zip]\n",
            "Saving to: ‘concrete_data_week4.zip’\n",
            "\n",
            "concrete_data_week4 100%[===================>] 249.37M  39.0MB/s    in 6.6s    \n",
            "\n",
            "2023-07-02 11:21:31 (37.8 MB/s) - ‘concrete_data_week4.zip’ saved [261483817/261483817]\n",
            "\n"
          ]
        }
      ]
    },
    {
      "cell_type": "code",
      "source": [
        "!unzip -q concrete_data_week4.zip"
      ],
      "metadata": {
        "id": "6rjpAyURRaCO"
      },
      "execution_count": 14,
      "outputs": []
    },
    {
      "cell_type": "markdown",
      "source": [
        "## Define Global Constants & Construct ImageDataGenerator Instances"
      ],
      "metadata": {
        "id": "7t9MqlUUUDUt"
      }
    },
    {
      "cell_type": "code",
      "source": [
        "# Define the number of classes and image resize dimensions\n",
        "\n",
        "num_classes = 2\n",
        "\n",
        "image_resize = 224\n",
        "\n",
        "batch_size_training = 100\n",
        "batch_size_validation = 100"
      ],
      "metadata": {
        "id": "IThMitVkRbWL"
      },
      "execution_count": 15,
      "outputs": []
    },
    {
      "cell_type": "code",
      "source": [
        "# Create an ImageDataGenerator instance for preprocessing the data\n",
        "\n",
        "data_generator = ImageDataGenerator(\n",
        "    preprocessing_function=preprocess_input,\n",
        ")\n",
        "\n",
        "# Create a generator for training data\n",
        "\n",
        "train_generator = data_generator.flow_from_directory(\n",
        "    'concrete_data_week4/train',\n",
        "    target_size=(image_resize, image_resize),\n",
        "    batch_size=batch_size_training,\n",
        "    class_mode='categorical')\n",
        "\n",
        "# Create a generator for validation data\n",
        "\n",
        "validation_generator = data_generator.flow_from_directory(\n",
        "    \"concrete_data_week4/valid\",\n",
        "    target_size=(image_resize, image_resize),\n",
        "    batch_size=batch_size_validation,\n",
        "    class_mode=\"categorical\",\n",
        ")\n",
        "\n",
        "# Create a generator for testing data\n",
        "\n",
        "testing_generator = data_generator.flow_from_directory(\n",
        "    'concrete_data_week4/test',\n",
        "    target_size=(image_resize, image_resize),\n",
        "    batch_size=batch_size_training,\n",
        "    class_mode='categorical')"
      ],
      "metadata": {
        "colab": {
          "base_uri": "https://localhost:8080/"
        },
        "id": "i_Mba8P1Rcon",
        "outputId": "038d44ce-82fd-46c5-86f2-124f87896f56"
      },
      "execution_count": 17,
      "outputs": [
        {
          "output_type": "stream",
          "name": "stdout",
          "text": [
            "Found 30001 images belonging to 2 classes.\n",
            "Found 9501 images belonging to 2 classes.\n",
            "Found 500 images belonging to 2 classes.\n"
          ]
        }
      ]
    },
    {
      "cell_type": "markdown",
      "source": [
        "## Build, Compile and Fit Model ResNet50"
      ],
      "metadata": {
        "id": "xns6xbumUJly"
      }
    },
    {
      "cell_type": "code",
      "source": [
        "# Build the model architecture using ResNet50 as the base model\n",
        "\n",
        "model = Sequential()\n",
        "\n",
        "model.add(ResNet50(\n",
        "    include_top=False,\n",
        "    pooling='avg',\n",
        "    weights='imagenet',\n",
        "    ))\n",
        "\n",
        "model.add(Dense(num_classes, activation='softmax'))\n",
        "\n",
        "model.layers"
      ],
      "metadata": {
        "colab": {
          "base_uri": "https://localhost:8080/"
        },
        "id": "WgLISGvqRleb",
        "outputId": "639c642a-79b7-440c-ee2b-a4e168a93b12"
      },
      "execution_count": 18,
      "outputs": [
        {
          "output_type": "execute_result",
          "data": {
            "text/plain": [
              "[<keras.engine.functional.Functional at 0x7f4b70335030>,\n",
              " <keras.layers.core.dense.Dense at 0x7f4b70387550>]"
            ]
          },
          "metadata": {},
          "execution_count": 18
        }
      ]
    },
    {
      "cell_type": "code",
      "source": [
        "# Freeze the weights of the ResNet50 base model\n",
        "\n",
        "model.layers[0].trainable = False"
      ],
      "metadata": {
        "id": "0REn9fWeRrQY"
      },
      "execution_count": 19,
      "outputs": []
    },
    {
      "cell_type": "code",
      "source": [
        "model.summary()"
      ],
      "metadata": {
        "colab": {
          "base_uri": "https://localhost:8080/"
        },
        "id": "kmhHgxI5Rv1B",
        "outputId": "9b9cbf0b-46e8-43fc-ab85-de83943d310a"
      },
      "execution_count": 20,
      "outputs": [
        {
          "output_type": "stream",
          "name": "stdout",
          "text": [
            "Model: \"sequential_2\"\n",
            "_________________________________________________________________\n",
            " Layer (type)                Output Shape              Param #   \n",
            "=================================================================\n",
            " resnet50 (Functional)       (None, 2048)              23587712  \n",
            "                                                                 \n",
            " dense_2 (Dense)             (None, 2)                 4098      \n",
            "                                                                 \n",
            "=================================================================\n",
            "Total params: 23,591,810\n",
            "Trainable params: 4,098\n",
            "Non-trainable params: 23,587,712\n",
            "_________________________________________________________________\n"
          ]
        }
      ]
    },
    {
      "cell_type": "code",
      "source": [
        "# Compile the model\n",
        "\n",
        "model.compile(optimizer='adam', loss='categorical_crossentropy', metrics=['accuracy'])\n",
        "\n",
        "# Define the number of steps per epoch for training and validation\n",
        "\n",
        "steps_per_epoch_training = len(train_generator)\n",
        "steps_per_epoch_validation = len(validation_generator)\n",
        "num_epochs = 2"
      ],
      "metadata": {
        "id": "2e_Td9yCUzfa"
      },
      "execution_count": 21,
      "outputs": []
    },
    {
      "cell_type": "code",
      "source": [
        "# Fit the model to the training data\n",
        "\n",
        "fit_history = model.fit_generator(\n",
        "    train_generator,\n",
        "    steps_per_epoch=steps_per_epoch_training,\n",
        "    epochs=num_epochs,\n",
        "    validation_data=validation_generator,\n",
        "    validation_steps=steps_per_epoch_validation,\n",
        "    verbose=1,\n",
        ")"
      ],
      "metadata": {
        "colab": {
          "base_uri": "https://localhost:8080/"
        },
        "id": "FirSi1eERxZd",
        "outputId": "6ead31a2-fefa-4098-8109-8feb77847e4e"
      },
      "execution_count": null,
      "outputs": [
        {
          "output_type": "stream",
          "name": "stderr",
          "text": [
            "<ipython-input-11-de8d7382ad83>:7: UserWarning: `Model.fit_generator` is deprecated and will be removed in a future version. Please use `Model.fit`, which supports generators.\n",
            "  fit_history = model.fit_generator(\n"
          ]
        },
        {
          "output_type": "stream",
          "name": "stdout",
          "text": [
            "Epoch 1/2\n"
          ]
        }
      ]
    },
    {
      "cell_type": "code",
      "source": [
        "# Save the trained model\n",
        "\n",
        "model.save('classifier_resnet_model.h5', include_optimizer=False)"
      ],
      "metadata": {
        "colab": {
          "base_uri": "https://localhost:8080/"
        },
        "id": "1H5bJxuPR3ri",
        "outputId": "ab5c78ec-1c51-43c6-d677-f800db926eee"
      },
      "execution_count": 10,
      "outputs": [
        {
          "output_type": "stream",
          "name": "stderr",
          "text": [
            "WARNING:tensorflow:Compiled the loaded model, but the compiled metrics have yet to be built. `model.compile_metrics` will be empty until you train or evaluate the model.\n"
          ]
        }
      ]
    },
    {
      "cell_type": "markdown",
      "source": [
        "##Build, Compile and Fit Model VGG16"
      ],
      "metadata": {
        "id": "AJqoisgaUbiY"
      }
    },
    {
      "cell_type": "code",
      "source": [
        "# Build the model architecture using VGG16 as the base model\n",
        "\n",
        "model_vgg16 = Sequential()\n",
        "\n",
        "model_vgg16.add(VGG16(include_top=False, pooling=\"avg\", weights=\"imagenet\",))\n",
        "model_vgg16.add(Dense(num_classes, activation=\"softmax\"))\n",
        "\n",
        "# Freeze the weights of the VGG16 base model\n",
        "model_vgg16.layers[0].trainable = False\n",
        "\n",
        "model_vgg16.summary()"
      ],
      "metadata": {
        "colab": {
          "base_uri": "https://localhost:8080/"
        },
        "id": "ZMO9G2u_IBwO",
        "outputId": "07695f1f-4055-429f-b596-a8258b8691a0"
      },
      "execution_count": 22,
      "outputs": [
        {
          "output_type": "stream",
          "name": "stdout",
          "text": [
            "Model: \"sequential_3\"\n",
            "_________________________________________________________________\n",
            " Layer (type)                Output Shape              Param #   \n",
            "=================================================================\n",
            " vgg16 (Functional)          (None, 512)               14714688  \n",
            "                                                                 \n",
            " dense_3 (Dense)             (None, 2)                 1026      \n",
            "                                                                 \n",
            "=================================================================\n",
            "Total params: 14,715,714\n",
            "Trainable params: 1,026\n",
            "Non-trainable params: 14,714,688\n",
            "_________________________________________________________________\n"
          ]
        }
      ]
    },
    {
      "cell_type": "code",
      "source": [
        "# Compile the model\n",
        "\n",
        "model_vgg16.compile(\n",
        "    optimizer=\"adam\", loss=\"categorical_crossentropy\", metrics=[\"accuracy\"]\n",
        ")\n",
        "\n",
        "# Define the number of steps per epoch for training and validation\n",
        "\n",
        "num_epochs = 2\n",
        "steps_per_epoch_training = len(train_generator)\n",
        "steps_per_epoch_validation = len(validation_generator)"
      ],
      "metadata": {
        "id": "ZmNfQiQQU4UF"
      },
      "execution_count": 23,
      "outputs": []
    },
    {
      "cell_type": "code",
      "source": [
        "# Fit the model to the training data\n",
        "\n",
        "history_vgg16 = model_vgg16.fit_generator(\n",
        "    train_generator ,\n",
        "    steps_per_epoch=steps_per_epoch_training,\n",
        "    epochs=num_epochs,\n",
        "    validation_data=validation_generator,\n",
        "    validation_steps=steps_per_epoch_validation,\n",
        "    verbose=1,\n",
        ")"
      ],
      "metadata": {
        "colab": {
          "base_uri": "https://localhost:8080/"
        },
        "id": "4YusY2Q0TSD5",
        "outputId": "b6c2e148-0efb-41f9-a552-0cc76b2be08b"
      },
      "execution_count": null,
      "outputs": [
        {
          "metadata": {
            "tags": null
          },
          "name": "stdout",
          "output_type": "stream",
          "text": [
            "Downloading data from https://storage.googleapis.com/tensorflow/keras-applications/vgg16/vgg16_weights_tf_dim_ordering_tf_kernels_notop.h5\n",
            "58889256/58889256 [==============================] - 0s 0us/step\n",
            "Model: \"sequential_1\"\n",
            "_________________________________________________________________\n",
            " Layer (type)                Output Shape              Param #   \n",
            "=================================================================\n",
            " vgg16 (Functional)          (None, 512)               14714688  \n",
            "                                                                 \n",
            " dense_1 (Dense)             (None, 2)                 1026      \n",
            "                                                                 \n",
            "=================================================================\n",
            "Total params: 14,715,714\n",
            "Trainable params: 1,026\n",
            "Non-trainable params: 14,714,688\n",
            "_________________________________________________________________\n"
          ]
        },
        {
          "metadata": {
            "tags": null
          },
          "name": "stderr",
          "output_type": "stream",
          "text": [
            "<ipython-input-8-f6851d96f1ef>:18: UserWarning: `Model.fit_generator` is deprecated and will be removed in a future version. Please use `Model.fit`, which supports generators.\n",
            "  history_vgg16 = model_vgg16.fit_generator(\n"
          ]
        },
        {
          "output_type": "stream",
          "name": "stdout",
          "text": [
            "Epoch 1/2\n",
            "176/301 [================>.............] - ETA: 2:06:08 - loss: 0.1220 - accuracy: 0.9610"
          ]
        }
      ]
    },
    {
      "cell_type": "code",
      "source": [
        "# Save the trained model\n",
        "\n",
        "model_vgg16.save(\"classifier_vgg16_model.h5\")"
      ],
      "metadata": {
        "id": "9JN8C7IsUhTS"
      },
      "execution_count": null,
      "outputs": []
    },
    {
      "cell_type": "markdown",
      "source": [
        "## Model Comparison"
      ],
      "metadata": {
        "id": "ubNduzO-UrtG"
      }
    },
    {
      "cell_type": "code",
      "source": [
        "# Load the saved ResNet50 and VGG16 models\n",
        "\n",
        "from keras.models import load_model\n",
        "\n",
        "model_resnet50 = load_model(\"/content/classifier_resnet_model.h5\")\n",
        "model_vgg16 = load_model(\"/content/classifier_vgg16_model.h5\")\n"
      ],
      "metadata": {
        "colab": {
          "base_uri": "https://localhost:8080/"
        },
        "id": "JTufujO77Ol0",
        "outputId": "1e6114b7-19e7-4519-9208-92e0a3c86634"
      },
      "execution_count": 24,
      "outputs": [
        {
          "output_type": "stream",
          "name": "stderr",
          "text": [
            "WARNING:tensorflow:Error in loading the saved optimizer state. As a result, your model is starting with a freshly initialized optimizer.\n"
          ]
        }
      ]
    },
    {
      "cell_type": "code",
      "source": [
        "# Evaluate the performance of the VGG16 model\n",
        "\n",
        "performance_vgg16 = model_vgg16.evaluate_generator(testing_generator)\n",
        "print(\"Performance of the VGG16-trained model\")\n",
        "print(\"Loss: {}\".format(round(performance_vgg16[0], 5)))\n",
        "print(\"Accuracy: {}\".format(round(performance_vgg16[1], 5)))"
      ],
      "metadata": {
        "colab": {
          "base_uri": "https://localhost:8080/"
        },
        "id": "OqKjheqAU2Qb",
        "outputId": "f5146dee-e2b7-4496-f698-bb06c4723f80"
      },
      "execution_count": 25,
      "outputs": [
        {
          "output_type": "stream",
          "name": "stderr",
          "text": [
            "<ipython-input-25-b011ab8e0084>:3: UserWarning: `Model.evaluate_generator` is deprecated and will be removed in a future version. Please use `Model.evaluate`, which supports generators.\n",
            "  performance_vgg16 = model_vgg16.evaluate_generator(testing_generator)\n"
          ]
        },
        {
          "output_type": "stream",
          "name": "stdout",
          "text": [
            "Performance of the VGG16-trained model\n",
            "Loss: 0.01861\n",
            "Accuracy: 0.996\n"
          ]
        }
      ]
    },
    {
      "cell_type": "code",
      "source": [
        "# Evaluate the performance of the ResNet50 model\n",
        "\n",
        "performance_resnet50 = model_resnet50.evaluate_generator(testing_generator)\n",
        "print(\"Performance of the ResNet50-trained model\")\n",
        "print(\"Loss: {}\".format(round(performance_resnet50[0], 5)))\n",
        "print(\"Accuracy: {}\".format(round(performance_resnet50[1], 5)))"
      ],
      "metadata": {
        "colab": {
          "base_uri": "https://localhost:8080/"
        },
        "id": "V5cfZZRVU3Ug",
        "outputId": "6661e40c-e30d-41e4-88f5-be3bdad3b8e4"
      },
      "execution_count": 26,
      "outputs": [
        {
          "output_type": "stream",
          "name": "stderr",
          "text": [
            "<ipython-input-26-df9b3b418bf3>:3: UserWarning: `Model.evaluate_generator` is deprecated and will be removed in a future version. Please use `Model.evaluate`, which supports generators.\n",
            "  performance_resnet50 = model_resnet50.evaluate_generator(testing_generator)\n"
          ]
        },
        {
          "output_type": "stream",
          "name": "stdout",
          "text": [
            "Performance of the ResNet50-trained model\n",
            "Loss: 0.27634\n",
            "Accuracy: 0.882\n"
          ]
        }
      ]
    },
    {
      "cell_type": "code",
      "source": [
        "# Generate predictions using the VGG16 model\n",
        "\n",
        "predictions_vgg16 = model_vgg16.predict_generator(testing_generator, steps=1)\n",
        "\n",
        "# Function to print the prediction result\n",
        "\n",
        "def print_prediction(prediction):\n",
        "    if prediction[0] > prediction[1]:\n",
        "        print(\"Negative ({}% certainty)\".format(round(prediction[0] * 100, 1)))\n",
        "    elif prediction[1] > prediction[0]:\n",
        "        print(\"Positive ({}% certainty)\".format(round(prediction[1] * 100, 1)))\n",
        "    else:\n",
        "        print(\"Unsure (prediction split 50–50)\")\n",
        "\n",
        "# Print the first five predictions for the VGG16 model\n",
        "\n",
        "print(\"First five predictions for the VGG16-trained model:\")\n",
        "for i in range(5):\n",
        "    print_prediction(predictions_vgg16[i])"
      ],
      "metadata": {
        "colab": {
          "base_uri": "https://localhost:8080/"
        },
        "id": "c9LlozdsU6zL",
        "outputId": "946bc2d8-6471-4611-b047-443155a0c8d7"
      },
      "execution_count": 27,
      "outputs": [
        {
          "output_type": "stream",
          "name": "stderr",
          "text": [
            "<ipython-input-27-10bcf767c9df>:3: UserWarning: `Model.predict_generator` is deprecated and will be removed in a future version. Please use `Model.predict`, which supports generators.\n",
            "  predictions_vgg16 = model_vgg16.predict_generator(testing_generator, steps=1)\n"
          ]
        },
        {
          "output_type": "stream",
          "name": "stdout",
          "text": [
            "First five predictions for the VGG16-trained model:\n",
            "Negative (99.9% certainty)\n",
            "Positive (100.0% certainty)\n",
            "Positive (99.7% certainty)\n",
            "Negative (95.4% certainty)\n",
            "Negative (99.4% certainty)\n"
          ]
        }
      ]
    },
    {
      "cell_type": "code",
      "source": [
        "# Generate predictions using the ResNet50 model\n",
        "\n",
        "predictions_resnet50 = model_resnet50.predict_generator(testing_generator, steps=1)\n",
        "print(\"First five predictions for the ResNet50-trained model:\")\n",
        "for i in range(5):\n",
        "    print_prediction(predictions_resnet50[i])\n"
      ],
      "metadata": {
        "colab": {
          "base_uri": "https://localhost:8080/"
        },
        "id": "09xG8BWYU8Y4",
        "outputId": "dadb4ac1-1c35-4a81-e7d3-7c5a6c48ec7d"
      },
      "execution_count": 28,
      "outputs": [
        {
          "output_type": "stream",
          "name": "stderr",
          "text": [
            "<ipython-input-28-3e9d47e1eae1>:3: UserWarning: `Model.predict_generator` is deprecated and will be removed in a future version. Please use `Model.predict`, which supports generators.\n",
            "  predictions_resnet50 = model_resnet50.predict_generator(testing_generator, steps=1)\n"
          ]
        },
        {
          "output_type": "stream",
          "name": "stdout",
          "text": [
            "First five predictions for the ResNet50-trained model:\n",
            "Positive (81.9% certainty)\n",
            "Negative (100.0% certainty)\n",
            "Positive (97.5% certainty)\n",
            "Negative (100.0% certainty)\n",
            "Negative (100.0% certainty)\n"
          ]
        }
      ]
    }
  ]
}